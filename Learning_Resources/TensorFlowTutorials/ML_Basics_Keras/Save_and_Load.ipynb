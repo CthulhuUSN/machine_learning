{
 "cells": [
  {
   "cell_type": "code",
   "execution_count": 1,
   "metadata": {},
   "outputs": [
    {
     "name": "stdout",
     "output_type": "stream",
     "text": [
      "2.1.0\n"
     ]
    }
   ],
   "source": [
    "import os\n",
    "\n",
    "import tensorflow as tf\n",
    "from tensorflow import keras\n",
    "\n",
    "print(tf.version.VERSION)"
   ]
  },
  {
   "cell_type": "code",
   "execution_count": 2,
   "metadata": {},
   "outputs": [
    {
     "name": "stdout",
     "output_type": "stream",
     "text": [
      "Downloading data from https://storage.googleapis.com/tensorflow/tf-keras-datasets/mnist.npz\n",
      "11493376/11490434 [==============================] - 1s 0us/step\n"
     ]
    }
   ],
   "source": [
    "(train_images, train_labels), (test_images, test_labels) = tf.keras.datasets.mnist.load_data()\n",
    "\n",
    "train_labels = train_labels[:1000]\n",
    "test_labels = test_labels[:1000]\n",
    "\n",
    "train_images = train_images[:1000].reshape(-1, 28 * 28) / 255.0\n",
    "test_images = test_images[:1000].reshape(-1, 28 * 28) / 255.0"
   ]
  },
  {
   "cell_type": "code",
   "execution_count": 3,
   "metadata": {},
   "outputs": [
    {
     "name": "stdout",
     "output_type": "stream",
     "text": [
      "Model: \"sequential\"\n",
      "_________________________________________________________________\n",
      "Layer (type)                 Output Shape              Param #   \n",
      "=================================================================\n",
      "dense (Dense)                (None, 512)               401920    \n",
      "_________________________________________________________________\n",
      "dropout (Dropout)            (None, 512)               0         \n",
      "_________________________________________________________________\n",
      "dense_1 (Dense)              (None, 10)                5130      \n",
      "=================================================================\n",
      "Total params: 407,050\n",
      "Trainable params: 407,050\n",
      "Non-trainable params: 0\n",
      "_________________________________________________________________\n"
     ]
    }
   ],
   "source": [
    "# Define a simple sequential model\n",
    "def create_model():\n",
    "  model = tf.keras.models.Sequential([\n",
    "    keras.layers.Dense(512, activation='relu', input_shape=(784,)),\n",
    "    keras.layers.Dropout(0.2),\n",
    "    keras.layers.Dense(10)\n",
    "  ])\n",
    "\n",
    "  model.compile(optimizer='adam',\n",
    "                loss=tf.losses.SparseCategoricalCrossentropy(from_logits=True),\n",
    "                metrics=['accuracy'])\n",
    "\n",
    "  return model\n",
    "\n",
    "# Create a basic model instance\n",
    "model = create_model()\n",
    "\n",
    "# Display the model's architecture\n",
    "model.summary()"
   ]
  },
  {
   "cell_type": "code",
   "execution_count": 4,
   "metadata": {},
   "outputs": [
    {
     "name": "stdout",
     "output_type": "stream",
     "text": [
      "Train on 1000 samples, validate on 1000 samples\n",
      "Epoch 1/10\n",
      " 928/1000 [==========================>...] - ETA: 0s - loss: 1.1903 - accuracy: 0.6595 \n",
      "Epoch 00001: saving model to training_1/cp.ckpt\n",
      "1000/1000 [==============================] - 1s 686us/sample - loss: 1.1463 - accuracy: 0.6750 - val_loss: 0.7206 - val_accuracy: 0.7780\n",
      "Epoch 2/10\n",
      " 960/1000 [===========================>..] - ETA: 0s - loss: 0.4183 - accuracy: 0.8802\n",
      "Epoch 00002: saving model to training_1/cp.ckpt\n",
      "1000/1000 [==============================] - 0s 152us/sample - loss: 0.4190 - accuracy: 0.8810 - val_loss: 0.5267 - val_accuracy: 0.8310\n",
      "Epoch 3/10\n",
      " 960/1000 [===========================>..] - ETA: 0s - loss: 0.2770 - accuracy: 0.9271\n",
      "Epoch 00003: saving model to training_1/cp.ckpt\n",
      "1000/1000 [==============================] - 0s 164us/sample - loss: 0.2850 - accuracy: 0.9230 - val_loss: 0.4656 - val_accuracy: 0.8590\n",
      "Epoch 4/10\n",
      " 960/1000 [===========================>..] - ETA: 0s - loss: 0.1945 - accuracy: 0.9583\n",
      "Epoch 00004: saving model to training_1/cp.ckpt\n",
      "1000/1000 [==============================] - 0s 152us/sample - loss: 0.1914 - accuracy: 0.9600 - val_loss: 0.4340 - val_accuracy: 0.8540\n",
      "Epoch 5/10\n",
      " 928/1000 [==========================>...] - ETA: 0s - loss: 0.1501 - accuracy: 0.9655\n",
      "Epoch 00005: saving model to training_1/cp.ckpt\n",
      "1000/1000 [==============================] - 0s 160us/sample - loss: 0.1490 - accuracy: 0.9640 - val_loss: 0.4167 - val_accuracy: 0.8590\n",
      "Epoch 6/10\n",
      " 896/1000 [=========================>....] - ETA: 0s - loss: 0.1311 - accuracy: 0.9710\n",
      "Epoch 00006: saving model to training_1/cp.ckpt\n",
      "1000/1000 [==============================] - 0s 152us/sample - loss: 0.1283 - accuracy: 0.9720 - val_loss: 0.4213 - val_accuracy: 0.8630\n",
      "Epoch 7/10\n",
      " 960/1000 [===========================>..] - ETA: 0s - loss: 0.0858 - accuracy: 0.9865\n",
      "Epoch 00007: saving model to training_1/cp.ckpt\n",
      "1000/1000 [==============================] - 0s 153us/sample - loss: 0.0857 - accuracy: 0.9860 - val_loss: 0.4268 - val_accuracy: 0.8680\n",
      "Epoch 8/10\n",
      " 928/1000 [==========================>...] - ETA: 0s - loss: 0.0629 - accuracy: 0.9935\n",
      "Epoch 00008: saving model to training_1/cp.ckpt\n",
      "1000/1000 [==============================] - 0s 155us/sample - loss: 0.0637 - accuracy: 0.9940 - val_loss: 0.4164 - val_accuracy: 0.8640\n",
      "Epoch 9/10\n",
      " 960/1000 [===========================>..] - ETA: 0s - loss: 0.0480 - accuracy: 0.9969\n",
      "Epoch 00009: saving model to training_1/cp.ckpt\n",
      "1000/1000 [==============================] - 0s 153us/sample - loss: 0.0485 - accuracy: 0.9970 - val_loss: 0.4018 - val_accuracy: 0.8730\n",
      "Epoch 10/10\n",
      " 960/1000 [===========================>..] - ETA: 0s - loss: 0.0390 - accuracy: 0.9979\n",
      "Epoch 00010: saving model to training_1/cp.ckpt\n",
      "1000/1000 [==============================] - 0s 155us/sample - loss: 0.0387 - accuracy: 0.9980 - val_loss: 0.4110 - val_accuracy: 0.8670\n"
     ]
    },
    {
     "data": {
      "text/plain": [
       "<tensorflow.python.keras.callbacks.History at 0x20945dcd488>"
      ]
     },
     "execution_count": 4,
     "metadata": {},
     "output_type": "execute_result"
    }
   ],
   "source": [
    "checkpoint_path = \"training_1/cp.ckpt\"\n",
    "checkpoint_dir = os.path.dirname(checkpoint_path)\n",
    "\n",
    "# Create a callback that saves the model's weights\n",
    "cp_callback = tf.keras.callbacks.ModelCheckpoint(filepath=checkpoint_path,\n",
    "                                                 save_weights_only=True,\n",
    "                                                 verbose=1)\n",
    "\n",
    "# Train the model with the new callback\n",
    "model.fit(train_images, \n",
    "          train_labels,  \n",
    "          epochs=10,\n",
    "          validation_data=(test_images,test_labels),\n",
    "          callbacks=[cp_callback])  # Pass callback to training\n",
    "\n",
    "# This may generate warnings related to saving the state of the optimizer.\n",
    "# These warnings (and similar warnings throughout this notebook)\n",
    "# are in place to discourage outdated usage, and can be ignored."
   ]
  },
  {
   "cell_type": "code",
   "execution_count": 5,
   "metadata": {},
   "outputs": [
    {
     "name": "stdout",
     "output_type": "stream",
     "text": [
      " Volume in drive C has no label.\n",
      " Volume Serial Number is 080D-070B\n",
      "\n",
      " Directory of C:\\Users\\jarvi\\iCloudDrive\\MachineAndDeepLearning\\Notebooks\\TensorFlowTutorials\\Beginner\\training_1\n",
      "\n",
      "06/25/2020  14:23    <DIR>          .\n",
      "06/25/2020  14:23    <DIR>          ..\n",
      "06/25/2020  14:23                71 checkpoint\n",
      "06/25/2020  14:23             2,064 cp.ckpt.data-00000-of-00002\n",
      "06/25/2020  14:23         4,884,624 cp.ckpt.data-00001-of-00002\n",
      "06/25/2020  14:23             1,251 cp.ckpt.index\n",
      "               4 File(s)      4,888,010 bytes\n",
      "               2 Dir(s)  529,187,737,600 bytes free\n"
     ]
    }
   ],
   "source": [
    "ls {checkpoint_dir}"
   ]
  },
  {
   "cell_type": "code",
   "execution_count": 6,
   "metadata": {},
   "outputs": [
    {
     "name": "stdout",
     "output_type": "stream",
     "text": [
      "1000/1000 - 0s - loss: 2.3190 - accuracy: 0.0950\n",
      "Untrained model, accuracy:  9.50%\n"
     ]
    }
   ],
   "source": [
    "# Create a basic model instance\n",
    "model = create_model()\n",
    "\n",
    "# Evaluate the model\n",
    "loss, acc = model.evaluate(test_images,  test_labels, verbose=2)\n",
    "print(\"Untrained model, accuracy: {:5.2f}%\".format(100*acc))"
   ]
  },
  {
   "cell_type": "code",
   "execution_count": 7,
   "metadata": {},
   "outputs": [
    {
     "name": "stdout",
     "output_type": "stream",
     "text": [
      "1000/1000 - 0s - loss: 0.4110 - accuracy: 0.8670\n",
      "Restored model, accuracy: 86.70%\n"
     ]
    }
   ],
   "source": [
    "# Loads the weights\n",
    "model.load_weights(checkpoint_path)\n",
    "\n",
    "# Re-evaluate the model\n",
    "loss,acc = model.evaluate(test_images,  test_labels, verbose=2)\n",
    "print(\"Restored model, accuracy: {:5.2f}%\".format(100*acc))"
   ]
  },
  {
   "cell_type": "code",
   "execution_count": 10,
   "metadata": {},
   "outputs": [
    {
     "name": "stdout",
     "output_type": "stream",
     "text": [
      "WARNING:tensorflow:`period` argument is deprecated. Please use `save_freq` to specify the frequency in number of samples seen.\n",
      "\n",
      "Epoch 00005: saving model to training_2/cp-0005.ckpt\n",
      "\n",
      "Epoch 00010: saving model to training_2/cp-0010.ckpt\n",
      "\n",
      "Epoch 00015: saving model to training_2/cp-0015.ckpt\n",
      "\n",
      "Epoch 00020: saving model to training_2/cp-0020.ckpt\n",
      "\n",
      "Epoch 00025: saving model to training_2/cp-0025.ckpt\n",
      "\n",
      "Epoch 00030: saving model to training_2/cp-0030.ckpt\n",
      "\n",
      "Epoch 00035: saving model to training_2/cp-0035.ckpt\n",
      "\n",
      "Epoch 00040: saving model to training_2/cp-0040.ckpt\n",
      "\n",
      "Epoch 00045: saving model to training_2/cp-0045.ckpt\n",
      "\n",
      "Epoch 00050: saving model to training_2/cp-0050.ckpt\n"
     ]
    },
    {
     "data": {
      "text/plain": [
       "<tensorflow.python.keras.callbacks.History at 0x20afc406a08>"
      ]
     },
     "execution_count": 10,
     "metadata": {},
     "output_type": "execute_result"
    }
   ],
   "source": [
    "# Include the epoch in the file name (uses `str.format`)\n",
    "checkpoint_path = \"training_2/cp-{epoch:04d}.ckpt\"\n",
    "checkpoint_dir = os.path.dirname(checkpoint_path)\n",
    "\n",
    "# Create a callback that saves the model's weights every 5 epochs\n",
    "cp_callback = tf.keras.callbacks.ModelCheckpoint(\n",
    "    filepath=checkpoint_path, \n",
    "    verbose=1, \n",
    "    save_weights_only=True,\n",
    "    period=5)\n",
    "\n",
    "# Create a new model instance\n",
    "model = create_model()\n",
    "\n",
    "# Save the weights using the `checkpoint_path` format\n",
    "model.save_weights(checkpoint_path.format(epoch=0))\n",
    "\n",
    "# Train the model with the new callback\n",
    "model.fit(train_images, \n",
    "          train_labels,\n",
    "          epochs=50, \n",
    "          callbacks=[cp_callback],\n",
    "          validation_data=(test_images,test_labels),\n",
    "          verbose=0)"
   ]
  },
  {
   "cell_type": "code",
   "execution_count": 11,
   "metadata": {},
   "outputs": [
    {
     "name": "stdout",
     "output_type": "stream",
     "text": [
      " Volume in drive C has no label.\n",
      " Volume Serial Number is 080D-070B\n",
      "\n",
      " Directory of C:\\Users\\jarvi\\iCloudDrive\\MachineAndDeepLearning\\Notebooks\\TensorFlowTutorials\\Beginner\\training_2\n",
      "\n",
      "06/25/2020  14:29    <DIR>          .\n",
      "06/25/2020  14:29    <DIR>          ..\n",
      "06/25/2020  14:29                81 checkpoint\n",
      "06/25/2020  14:29               541 cp-0000.ckpt.data-00000-of-00002\n",
      "06/25/2020  14:29         1,628,200 cp-0000.ckpt.data-00001-of-00002\n",
      "06/25/2020  14:29               406 cp-0000.ckpt.index\n",
      "06/25/2020  14:28             2,076 cp-0001.ckpt.data-00000-of-00002\n",
      "06/25/2020  14:28         4,884,624 cp-0001.ckpt.data-00001-of-00002\n",
      "06/25/2020  14:28             1,251 cp-0001.ckpt.index\n",
      "06/25/2020  14:28             2,076 cp-0002.ckpt.data-00000-of-00002\n",
      "06/25/2020  14:28         4,884,624 cp-0002.ckpt.data-00001-of-00002\n",
      "06/25/2020  14:28             1,251 cp-0002.ckpt.index\n",
      "06/25/2020  14:28             2,076 cp-0003.ckpt.data-00000-of-00002\n",
      "06/25/2020  14:28         4,884,624 cp-0003.ckpt.data-00001-of-00002\n",
      "06/25/2020  14:28             1,251 cp-0003.ckpt.index\n",
      "06/25/2020  14:28             2,076 cp-0004.ckpt.data-00000-of-00002\n",
      "06/25/2020  14:28         4,884,624 cp-0004.ckpt.data-00001-of-00002\n",
      "06/25/2020  14:28             1,251 cp-0004.ckpt.index\n",
      "06/25/2020  14:29             2,076 cp-0005.ckpt.data-00000-of-00002\n",
      "06/25/2020  14:29         4,884,624 cp-0005.ckpt.data-00001-of-00002\n",
      "06/25/2020  14:29             1,251 cp-0005.ckpt.index\n",
      "06/25/2020  14:28             2,076 cp-0006.ckpt.data-00000-of-00002\n",
      "06/25/2020  14:28         4,884,624 cp-0006.ckpt.data-00001-of-00002\n",
      "06/25/2020  14:28             1,251 cp-0006.ckpt.index\n",
      "06/25/2020  14:28             2,076 cp-0007.ckpt.data-00000-of-00002\n",
      "06/25/2020  14:28         4,884,624 cp-0007.ckpt.data-00001-of-00002\n",
      "06/25/2020  14:28             1,251 cp-0007.ckpt.index\n",
      "06/25/2020  14:28             2,076 cp-0008.ckpt.data-00000-of-00002\n",
      "06/25/2020  14:28         4,884,624 cp-0008.ckpt.data-00001-of-00002\n",
      "06/25/2020  14:28             1,251 cp-0008.ckpt.index\n",
      "06/25/2020  14:28             2,076 cp-0009.ckpt.data-00000-of-00002\n",
      "06/25/2020  14:28         4,884,624 cp-0009.ckpt.data-00001-of-00002\n",
      "06/25/2020  14:28             1,251 cp-0009.ckpt.index\n",
      "06/25/2020  14:29             2,076 cp-0010.ckpt.data-00000-of-00002\n",
      "06/25/2020  14:29         4,884,624 cp-0010.ckpt.data-00001-of-00002\n",
      "06/25/2020  14:29             1,251 cp-0010.ckpt.index\n",
      "06/25/2020  14:28             2,076 cp-0011.ckpt.data-00000-of-00002\n",
      "06/25/2020  14:28         4,884,624 cp-0011.ckpt.data-00001-of-00002\n",
      "06/25/2020  14:28             1,251 cp-0011.ckpt.index\n",
      "06/25/2020  14:28             2,076 cp-0012.ckpt.data-00000-of-00002\n",
      "06/25/2020  14:28         4,884,624 cp-0012.ckpt.data-00001-of-00002\n",
      "06/25/2020  14:28             1,251 cp-0012.ckpt.index\n",
      "06/25/2020  14:28             2,076 cp-0013.ckpt.data-00000-of-00002\n",
      "06/25/2020  14:28         4,884,624 cp-0013.ckpt.data-00001-of-00002\n",
      "06/25/2020  14:28             1,251 cp-0013.ckpt.index\n",
      "06/25/2020  14:28             2,076 cp-0014.ckpt.data-00000-of-00002\n",
      "06/25/2020  14:28         4,884,624 cp-0014.ckpt.data-00001-of-00002\n",
      "06/25/2020  14:28             1,251 cp-0014.ckpt.index\n",
      "06/25/2020  14:29             2,076 cp-0015.ckpt.data-00000-of-00002\n",
      "06/25/2020  14:29         4,884,624 cp-0015.ckpt.data-00001-of-00002\n",
      "06/25/2020  14:29             1,251 cp-0015.ckpt.index\n",
      "06/25/2020  14:29             2,076 cp-0016.ckpt.data-00000-of-00002\n",
      "06/25/2020  14:29         4,884,624 cp-0016.ckpt.data-00001-of-00002\n",
      "06/25/2020  14:29             1,251 cp-0016.ckpt.index\n",
      "06/25/2020  14:29             2,076 cp-0017.ckpt.data-00000-of-00002\n",
      "06/25/2020  14:29         4,884,624 cp-0017.ckpt.data-00001-of-00002\n",
      "06/25/2020  14:29             1,251 cp-0017.ckpt.index\n",
      "06/25/2020  14:29             2,076 cp-0018.ckpt.data-00000-of-00002\n",
      "06/25/2020  14:29         4,884,624 cp-0018.ckpt.data-00001-of-00002\n",
      "06/25/2020  14:29             1,251 cp-0018.ckpt.index\n",
      "06/25/2020  14:29             2,076 cp-0019.ckpt.data-00000-of-00002\n",
      "06/25/2020  14:29         4,884,624 cp-0019.ckpt.data-00001-of-00002\n",
      "06/25/2020  14:29             1,251 cp-0019.ckpt.index\n",
      "06/25/2020  14:29             2,076 cp-0020.ckpt.data-00000-of-00002\n",
      "06/25/2020  14:29         4,884,624 cp-0020.ckpt.data-00001-of-00002\n",
      "06/25/2020  14:29             1,251 cp-0020.ckpt.index\n",
      "06/25/2020  14:29             2,076 cp-0021.ckpt.data-00000-of-00002\n",
      "06/25/2020  14:29         4,884,624 cp-0021.ckpt.data-00001-of-00002\n",
      "06/25/2020  14:29             1,251 cp-0021.ckpt.index\n",
      "06/25/2020  14:29             2,076 cp-0022.ckpt.data-00000-of-00002\n",
      "06/25/2020  14:29         4,884,624 cp-0022.ckpt.data-00001-of-00002\n",
      "06/25/2020  14:29             1,251 cp-0022.ckpt.index\n",
      "06/25/2020  14:29             2,076 cp-0023.ckpt.data-00000-of-00002\n",
      "06/25/2020  14:29         4,884,624 cp-0023.ckpt.data-00001-of-00002\n",
      "06/25/2020  14:29             1,251 cp-0023.ckpt.index\n",
      "06/25/2020  14:29             2,076 cp-0024.ckpt.data-00000-of-00002\n",
      "06/25/2020  14:29         4,884,624 cp-0024.ckpt.data-00001-of-00002\n",
      "06/25/2020  14:29             1,251 cp-0024.ckpt.index\n",
      "06/25/2020  14:29             2,076 cp-0025.ckpt.data-00000-of-00002\n",
      "06/25/2020  14:29         4,884,624 cp-0025.ckpt.data-00001-of-00002\n",
      "06/25/2020  14:29             1,251 cp-0025.ckpt.index\n",
      "06/25/2020  14:29             2,076 cp-0026.ckpt.data-00000-of-00002\n",
      "06/25/2020  14:29         4,884,624 cp-0026.ckpt.data-00001-of-00002\n",
      "06/25/2020  14:29             1,251 cp-0026.ckpt.index\n",
      "06/25/2020  14:29             2,076 cp-0027.ckpt.data-00000-of-00002\n",
      "06/25/2020  14:29         4,884,624 cp-0027.ckpt.data-00001-of-00002\n",
      "06/25/2020  14:29             1,251 cp-0027.ckpt.index\n",
      "06/25/2020  14:29             2,076 cp-0028.ckpt.data-00000-of-00002\n",
      "06/25/2020  14:29         4,884,624 cp-0028.ckpt.data-00001-of-00002\n",
      "06/25/2020  14:29             1,251 cp-0028.ckpt.index\n",
      "06/25/2020  14:29             2,076 cp-0029.ckpt.data-00000-of-00002\n",
      "06/25/2020  14:29         4,884,624 cp-0029.ckpt.data-00001-of-00002\n",
      "06/25/2020  14:29             1,251 cp-0029.ckpt.index\n",
      "06/25/2020  14:29             2,076 cp-0030.ckpt.data-00000-of-00002\n",
      "06/25/2020  14:29         4,884,624 cp-0030.ckpt.data-00001-of-00002\n",
      "06/25/2020  14:29             1,251 cp-0030.ckpt.index\n",
      "06/25/2020  14:29             2,076 cp-0031.ckpt.data-00000-of-00002\n",
      "06/25/2020  14:29         4,884,624 cp-0031.ckpt.data-00001-of-00002\n",
      "06/25/2020  14:29             1,251 cp-0031.ckpt.index\n",
      "06/25/2020  14:29             2,076 cp-0032.ckpt.data-00000-of-00002\n",
      "06/25/2020  14:29         4,884,624 cp-0032.ckpt.data-00001-of-00002\n",
      "06/25/2020  14:29             1,251 cp-0032.ckpt.index\n",
      "06/25/2020  14:29             2,076 cp-0033.ckpt.data-00000-of-00002\n",
      "06/25/2020  14:29         4,884,624 cp-0033.ckpt.data-00001-of-00002\n",
      "06/25/2020  14:29             1,251 cp-0033.ckpt.index\n",
      "06/25/2020  14:29             2,076 cp-0035.ckpt.data-00000-of-00002\n",
      "06/25/2020  14:29         4,884,624 cp-0035.ckpt.data-00001-of-00002\n",
      "06/25/2020  14:29             1,251 cp-0035.ckpt.index\n",
      "06/25/2020  14:29             2,076 cp-0040.ckpt.data-00000-of-00002\n",
      "06/25/2020  14:29         4,884,624 cp-0040.ckpt.data-00001-of-00002\n",
      "06/25/2020  14:29             1,251 cp-0040.ckpt.index\n",
      "06/25/2020  14:29             2,076 cp-0045.ckpt.data-00000-of-00002\n",
      "06/25/2020  14:29         4,884,624 cp-0045.ckpt.data-00001-of-00002\n",
      "06/25/2020  14:29             1,251 cp-0045.ckpt.index\n",
      "06/25/2020  14:29             2,076 cp-0050.ckpt.data-00000-of-00002\n",
      "06/25/2020  14:29         4,884,624 cp-0050.ckpt.data-00001-of-00002\n",
      "06/25/2020  14:29             1,251 cp-0050.ckpt.index\n",
      "             115 File(s)    182,483,415 bytes\n",
      "               2 Dir(s)  528,999,096,320 bytes free\n"
     ]
    }
   ],
   "source": [
    "ls {checkpoint_dir}"
   ]
  },
  {
   "cell_type": "code",
   "execution_count": 12,
   "metadata": {},
   "outputs": [
    {
     "data": {
      "text/plain": [
       "'training_2\\\\cp-0050.ckpt'"
      ]
     },
     "execution_count": 12,
     "metadata": {},
     "output_type": "execute_result"
    }
   ],
   "source": [
    "latest = tf.train.latest_checkpoint(checkpoint_dir)\n",
    "latest"
   ]
  },
  {
   "cell_type": "code",
   "execution_count": 13,
   "metadata": {},
   "outputs": [
    {
     "name": "stdout",
     "output_type": "stream",
     "text": [
      "1000/1000 - 0s - loss: 0.5024 - accuracy: 0.8730\n",
      "Restored model, accuracy: 87.30%\n"
     ]
    }
   ],
   "source": [
    "# Create a new model instance\n",
    "model = create_model()\n",
    "\n",
    "# Load the previously saved weights\n",
    "model.load_weights(latest)\n",
    "\n",
    "# Re-evaluate the model\n",
    "loss, acc = model.evaluate(test_images,  test_labels, verbose=2)\n",
    "print(\"Restored model, accuracy: {:5.2f}%\".format(100*acc))"
   ]
  },
  {
   "cell_type": "code",
   "execution_count": 14,
   "metadata": {},
   "outputs": [
    {
     "name": "stdout",
     "output_type": "stream",
     "text": [
      "1000/1000 - 0s - loss: 0.5024 - accuracy: 0.8730\n",
      "Restored model, accuracy: 87.30%\n"
     ]
    }
   ],
   "source": [
    "# Save the weights\n",
    "model.save_weights('./checkpoints/my_checkpoint')\n",
    "\n",
    "# Create a new model instance\n",
    "model = create_model()\n",
    "\n",
    "# Restore the weights\n",
    "model.load_weights('./checkpoints/my_checkpoint')\n",
    "\n",
    "# Evaluate the model\n",
    "loss,acc = model.evaluate(test_images,  test_labels, verbose=2)\n",
    "print(\"Restored model, accuracy: {:5.2f}%\".format(100*acc))"
   ]
  },
  {
   "cell_type": "code",
   "execution_count": 16,
   "metadata": {},
   "outputs": [
    {
     "name": "stdout",
     "output_type": "stream",
     "text": [
      "Train on 1000 samples\n",
      "Epoch 1/5\n",
      "1000/1000 [==============================] - 0s 312us/sample - loss: 1.1647 - accuracy: 0.6640\n",
      "Epoch 2/5\n",
      "1000/1000 [==============================] - 0s 59us/sample - loss: 0.4270 - accuracy: 0.8860\n",
      "Epoch 3/5\n",
      "1000/1000 [==============================] - 0s 61us/sample - loss: 0.2820 - accuracy: 0.9310\n",
      "Epoch 4/5\n",
      "1000/1000 [==============================] - 0s 62us/sample - loss: 0.2149 - accuracy: 0.9470\n",
      "Epoch 5/5\n",
      "1000/1000 [==============================] - 0s 60us/sample - loss: 0.1540 - accuracy: 0.9690\n"
     ]
    },
    {
     "name": "stderr",
     "output_type": "stream",
     "text": [
      "A subdirectory or file -p already exists.\n",
      "Error occurred while processing: -p.\n",
      "A subdirectory or file saved_model already exists.\n",
      "Error occurred while processing: saved_model.\n"
     ]
    },
    {
     "name": "stdout",
     "output_type": "stream",
     "text": [
      "INFO:tensorflow:Assets written to: saved_model\\my_model\\assets\n"
     ]
    }
   ],
   "source": [
    "# Create and train a new model instance.\n",
    "model = create_model()\n",
    "model.fit(train_images, train_labels, epochs=5)\n",
    "\n",
    "# Save the entire model as a SavedModel.\n",
    "!mkdir -p saved_model\n",
    "model.save('saved_model\\my_model') "
   ]
  },
  {
   "cell_type": "code",
   "execution_count": 20,
   "metadata": {},
   "outputs": [
    {
     "name": "stdout",
     "output_type": "stream",
     "text": [
      " Volume in drive C has no label.\n",
      " Volume Serial Number is 080D-070B\n",
      "\n",
      " Directory of C:\\Users\\jarvi\\iCloudDrive\\MachineAndDeepLearning\\Notebooks\\TensorFlowTutorials\\Beginner\\saved_model\n",
      "\n",
      "06/25/2020  14:31    <DIR>          .\n",
      "06/25/2020  14:31    <DIR>          ..\n",
      "06/25/2020  14:31    <DIR>          my_model\n",
      "               0 File(s)              0 bytes\n",
      "               3 Dir(s)  528,975,532,032 bytes free\n",
      " Volume in drive C has no label.\n",
      " Volume Serial Number is 080D-070B\n",
      "\n",
      " Directory of C:\\Users\\jarvi\\iCloudDrive\\MachineAndDeepLearning\\Notebooks\\TensorFlowTutorials\\Beginner\\saved_model\\my_model\n",
      "\n",
      "06/25/2020  14:31    <DIR>          .\n",
      "06/25/2020  14:31    <DIR>          ..\n",
      "06/25/2020  14:31    <DIR>          assets\n",
      "06/25/2020  14:31            82,956 saved_model.pb\n",
      "06/25/2020  14:31    <DIR>          variables\n",
      "               1 File(s)         82,956 bytes\n",
      "               4 Dir(s)  528,975,532,032 bytes free\n"
     ]
    }
   ],
   "source": [
    "# my_model directory\n",
    "!dir saved_model\n",
    "\n",
    "# Contains an assets folder, saved_model.pb, and variables folder.\n",
    "!dir saved_model\\my_model"
   ]
  },
  {
   "cell_type": "code",
   "execution_count": 21,
   "metadata": {},
   "outputs": [
    {
     "name": "stdout",
     "output_type": "stream",
     "text": [
      "Model: \"sequential_8\"\n",
      "_________________________________________________________________\n",
      "Layer (type)                 Output Shape              Param #   \n",
      "=================================================================\n",
      "dense_16 (Dense)             (None, 512)               401920    \n",
      "_________________________________________________________________\n",
      "dropout_8 (Dropout)          (None, 512)               0         \n",
      "_________________________________________________________________\n",
      "dense_17 (Dense)             (None, 10)                5130      \n",
      "=================================================================\n",
      "Total params: 407,050\n",
      "Trainable params: 407,050\n",
      "Non-trainable params: 0\n",
      "_________________________________________________________________\n"
     ]
    }
   ],
   "source": [
    "new_model = tf.keras.models.load_model('saved_model/my_model')\n",
    "\n",
    "# Check its architecture\n",
    "new_model.summary()"
   ]
  },
  {
   "cell_type": "code",
   "execution_count": 22,
   "metadata": {},
   "outputs": [
    {
     "name": "stdout",
     "output_type": "stream",
     "text": [
      "1000/1000 - 0s - loss: 0.4309 - accuracy: 0.8510\n",
      "Restored model, accuracy: 85.10%\n",
      "(1000, 10)\n"
     ]
    }
   ],
   "source": [
    "# Evaluate the restored model\n",
    "loss, acc = new_model.evaluate(test_images,  test_labels, verbose=2)\n",
    "print('Restored model, accuracy: {:5.2f}%'.format(100*acc))\n",
    "\n",
    "print(new_model.predict(test_images).shape)"
   ]
  },
  {
   "cell_type": "code",
   "execution_count": 23,
   "metadata": {},
   "outputs": [
    {
     "name": "stdout",
     "output_type": "stream",
     "text": [
      "Train on 1000 samples\n",
      "Epoch 1/5\n",
      "1000/1000 [==============================] - 0s 460us/sample - loss: 1.1665 - accuracy: 0.6500\n",
      "Epoch 2/5\n",
      "1000/1000 [==============================] - 0s 70us/sample - loss: 0.4259 - accuracy: 0.8710\n",
      "Epoch 3/5\n",
      "1000/1000 [==============================] - 0s 68us/sample - loss: 0.2934 - accuracy: 0.9240\n",
      "Epoch 4/5\n",
      "1000/1000 [==============================] - 0s 70us/sample - loss: 0.2017 - accuracy: 0.9550\n",
      "Epoch 5/5\n",
      "1000/1000 [==============================] - 0s 68us/sample - loss: 0.1544 - accuracy: 0.9660\n"
     ]
    }
   ],
   "source": [
    "# Create and train a new model instance.\n",
    "model = create_model()\n",
    "model.fit(train_images, train_labels, epochs=5)\n",
    "\n",
    "# Save the entire model to a HDF5 file.\n",
    "# The '.h5' extension indicates that the model should be saved to HDF5.\n",
    "model.save('my_model.h5') "
   ]
  },
  {
   "cell_type": "code",
   "execution_count": 24,
   "metadata": {},
   "outputs": [
    {
     "name": "stdout",
     "output_type": "stream",
     "text": [
      "Model: \"sequential_9\"\n",
      "_________________________________________________________________\n",
      "Layer (type)                 Output Shape              Param #   \n",
      "=================================================================\n",
      "dense_18 (Dense)             (None, 512)               401920    \n",
      "_________________________________________________________________\n",
      "dropout_9 (Dropout)          (None, 512)               0         \n",
      "_________________________________________________________________\n",
      "dense_19 (Dense)             (None, 10)                5130      \n",
      "=================================================================\n",
      "Total params: 407,050\n",
      "Trainable params: 407,050\n",
      "Non-trainable params: 0\n",
      "_________________________________________________________________\n"
     ]
    }
   ],
   "source": [
    "# Recreate the exact same model, including its weights and the optimizer\n",
    "new_model = tf.keras.models.load_model('my_model.h5')\n",
    "\n",
    "# Show the model architecture\n",
    "new_model.summary()"
   ]
  },
  {
   "cell_type": "code",
   "execution_count": 25,
   "metadata": {},
   "outputs": [
    {
     "name": "stdout",
     "output_type": "stream",
     "text": [
      "Model: \"sequential_9\"\n",
      "_________________________________________________________________\n",
      "Layer (type)                 Output Shape              Param #   \n",
      "=================================================================\n",
      "dense_18 (Dense)             (None, 512)               401920    \n",
      "_________________________________________________________________\n",
      "dropout_9 (Dropout)          (None, 512)               0         \n",
      "_________________________________________________________________\n",
      "dense_19 (Dense)             (None, 10)                5130      \n",
      "=================================================================\n",
      "Total params: 407,050\n",
      "Trainable params: 407,050\n",
      "Non-trainable params: 0\n",
      "_________________________________________________________________\n"
     ]
    }
   ],
   "source": [
    "# Recreate the exact same model, including its weights and the optimizer\n",
    "new_model = tf.keras.models.load_model('my_model.h5')\n",
    "\n",
    "# Show the model architecture\n",
    "new_model.summary()"
   ]
  },
  {
   "cell_type": "code",
   "execution_count": 26,
   "metadata": {},
   "outputs": [
    {
     "name": "stdout",
     "output_type": "stream",
     "text": [
      "1000/1000 - 0s - loss: 0.4652 - accuracy: 0.8430\n",
      "Restored model, accuracy: 84.30%\n"
     ]
    }
   ],
   "source": [
    "loss, acc = new_model.evaluate(test_images,  test_labels, verbose=2)\n",
    "print('Restored model, accuracy: {:5.2f}%'.format(100*acc))"
   ]
  },
  {
   "cell_type": "code",
   "execution_count": null,
   "metadata": {},
   "outputs": [],
   "source": []
  }
 ],
 "metadata": {
  "kernelspec": {
   "display_name": "Python 3",
   "language": "python",
   "name": "python3"
  },
  "language_info": {
   "codemirror_mode": {
    "name": "ipython",
    "version": 3
   },
   "file_extension": ".py",
   "mimetype": "text/x-python",
   "name": "python",
   "nbconvert_exporter": "python",
   "pygments_lexer": "ipython3",
   "version": "3.7.7"
  }
 },
 "nbformat": 4,
 "nbformat_minor": 4
}
