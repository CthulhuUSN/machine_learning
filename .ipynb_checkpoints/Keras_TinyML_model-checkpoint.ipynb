{
 "cells": [
  {
   "cell_type": "code",
   "execution_count": 1,
   "metadata": {},
   "outputs": [],
   "source": [
    "import pandas as pd\n",
    "import numpy as np\n",
    "import tensorflow as tf\n",
    "from tensorflow import keras\n",
    "from tensorflow.keras import models\n",
    "from tensorflow.keras import layers\n",
    "from tensorflow.keras import optimizers\n",
    "from tensorflow.keras import losses\n",
    "from tensorflow.keras import metrics\n",
    "import matplotlib.pyplot as plt\n",
    "\n",
    "MODEL_NO_QUANT_TFLITE = 'model_no_quant.tflite'\n",
    "MODEL_TFLITE = 'model.tflite'\n",
    "MODEL_TFLITE_MICRO = 'model.cc'"
   ]
  },
  {
   "cell_type": "code",
   "execution_count": 2,
   "metadata": {},
   "outputs": [
    {
     "name": "stdout",
     "output_type": "stream",
     "text": [
      "Number of training examples: m_train = 910\n",
      "train_set_x shape: (3, 910)\n",
      "train_set_y shape: (1, 910)\n",
      "Number of dev examples: m_test = 195\n",
      "test_set_x shape: (3, 195)\n",
      "test_set_y shape: (1, 195)\n",
      "Number of testing examples: m_train = 195\n",
      "train_set_x shape: (3, 195)\n",
      "train_set_y shape: (1, 195)\n"
     ]
    }
   ],
   "source": [
    "#The data processing for the training and testing data sets\n",
    "def data_train(filename, split = True):\n",
    "    train_data = pd.read_excel(filename)\n",
    "    \n",
    "    tmp = train_data[['Current Level','Previous Level','Current Level Time']].copy()\n",
    "\n",
    "    X = pd.DataFrame(tmp).to_numpy()\n",
    "    X = X.T\n",
    "    X = np.float32(X)\n",
    "    \n",
    "    if split == True:\n",
    "        m = X.shape[1]\n",
    "        Y = np.array([train_data['Active Attack'].values])\n",
    "        Y = np.float32(Y)\n",
    "        \n",
    "        #Shuffle (X, Y)\n",
    "        permutation = list(np.random.permutation(m))\n",
    "        shuff_X = X[:, permutation]\n",
    "        shuff_Y = Y[:, permutation].reshape((1,m))\n",
    "    \n",
    "        devM = round(m * .3) # 30% of the set\n",
    "        devM2 = m - devM # 70% of the set\n",
    "        devM3 = round(devM / 2) #15% of the set\n",
    "        \n",
    "        train_X = shuff_X[:, 0:(devM2)]\n",
    "        train_Y = shuff_Y[:, 0:(devM2)]\n",
    "        dev_X = shuff_X[:, -(devM):-(devM3)]\n",
    "        dev_Y = shuff_Y[:, -(devM):-(devM3)]\n",
    "        test_X = shuff_X[:, -(devM3):]\n",
    "        test_Y = shuff_Y[:, -(devM3):]\n",
    "        \n",
    "        m_train = train_X.shape[1]\n",
    "        m_dev = dev_X.shape[1]\n",
    "        m_test = test_X.shape[1]\n",
    "        \n",
    "        print (\"Number of training examples: m_train = \" + str(m_train))\n",
    "        print (\"train_set_x shape: \" + str(train_X.shape))\n",
    "        print (\"train_set_y shape: \" + str(train_Y.shape))\n",
    "        print (\"Number of dev examples: m_test = \" + str(m_dev))\n",
    "        print (\"test_set_x shape: \" + str(dev_X.shape))\n",
    "        print (\"test_set_y shape: \" + str(dev_Y.shape))       \n",
    "        print (\"Number of testing examples: m_train = \" + str(m_test))\n",
    "        print (\"train_set_x shape: \" + str(test_X.shape))\n",
    "        print (\"train_set_y shape: \" + str(test_Y.shape))\n",
    "    \n",
    "        return train_X, train_Y, dev_X, dev_Y, test_X, test_Y\n",
    "    \n",
    "    return X\n",
    "    \n",
    "train_X, train_Y, dev_X, dev_Y, test_X, test_Y = data_train(\"PuttyData.xlsx\", split = True)"
   ]
  },
  {
   "cell_type": "code",
   "execution_count": 3,
   "metadata": {
    "scrolled": true
   },
   "outputs": [
    {
     "name": "stdout",
     "output_type": "stream",
     "text": [
      "Train on 910 samples, validate on 195 samples\n",
      "Epoch 1/100\n",
      "910/910 [==============================] - 1s 1ms/sample - loss: 1.8515 - accuracy: 0.8989 - val_loss: 1.8850 - val_accuracy: 0.8821\n",
      "Epoch 2/100\n",
      "910/910 [==============================] - 0s 152us/sample - loss: 1.1639 - accuracy: 0.9165 - val_loss: 1.2819 - val_accuracy: 0.9231\n",
      "Epoch 3/100\n",
      "910/910 [==============================] - 0s 163us/sample - loss: 0.8090 - accuracy: 0.9286 - val_loss: 0.8619 - val_accuracy: 0.9282\n",
      "Epoch 4/100\n",
      "910/910 [==============================] - 0s 168us/sample - loss: 0.5588 - accuracy: 0.9385 - val_loss: 0.5535 - val_accuracy: 0.9385\n",
      "Epoch 5/100\n",
      "910/910 [==============================] - 0s 160us/sample - loss: 0.4118 - accuracy: 0.9484 - val_loss: 0.4191 - val_accuracy: 0.9487\n",
      "Epoch 6/100\n",
      "910/910 [==============================] - 0s 155us/sample - loss: 0.3649 - accuracy: 0.9516 - val_loss: 0.3670 - val_accuracy: 0.9436\n",
      "Epoch 7/100\n",
      "910/910 [==============================] - 0s 159us/sample - loss: 0.3463 - accuracy: 0.9549 - val_loss: 0.3474 - val_accuracy: 0.9487\n",
      "Epoch 8/100\n",
      "910/910 [==============================] - 0s 160us/sample - loss: 0.3344 - accuracy: 0.9571 - val_loss: 0.3361 - val_accuracy: 0.9487\n",
      "Epoch 9/100\n",
      "910/910 [==============================] - 0s 160us/sample - loss: 0.3290 - accuracy: 0.9560 - val_loss: 0.3250 - val_accuracy: 0.9436\n",
      "Epoch 10/100\n",
      "910/910 [==============================] - 0s 166us/sample - loss: 0.3183 - accuracy: 0.9560 - val_loss: 0.3175 - val_accuracy: 0.9487\n",
      "Epoch 11/100\n",
      "910/910 [==============================] - 0s 166us/sample - loss: 0.3081 - accuracy: 0.9571 - val_loss: 0.3083 - val_accuracy: 0.9487\n",
      "Epoch 12/100\n",
      "910/910 [==============================] - 0s 162us/sample - loss: 0.2992 - accuracy: 0.9571 - val_loss: 0.2982 - val_accuracy: 0.9487\n",
      "Epoch 13/100\n",
      "910/910 [==============================] - 0s 159us/sample - loss: 0.2899 - accuracy: 0.9571 - val_loss: 0.2908 - val_accuracy: 0.9487\n",
      "Epoch 14/100\n",
      "910/910 [==============================] - 0s 156us/sample - loss: 0.2834 - accuracy: 0.9571 - val_loss: 0.2822 - val_accuracy: 0.9487\n",
      "Epoch 15/100\n",
      "910/910 [==============================] - 0s 155us/sample - loss: 0.2754 - accuracy: 0.9571 - val_loss: 0.2788 - val_accuracy: 0.9538\n",
      "Epoch 16/100\n",
      "910/910 [==============================] - 0s 160us/sample - loss: 0.2684 - accuracy: 0.9604 - val_loss: 0.2661 - val_accuracy: 0.9487\n",
      "Epoch 17/100\n",
      "910/910 [==============================] - 0s 160us/sample - loss: 0.2624 - accuracy: 0.9582 - val_loss: 0.2603 - val_accuracy: 0.9538\n",
      "Epoch 18/100\n",
      "910/910 [==============================] - 0s 166us/sample - loss: 0.2538 - accuracy: 0.9571 - val_loss: 0.2512 - val_accuracy: 0.9538\n",
      "Epoch 19/100\n",
      "910/910 [==============================] - 0s 156us/sample - loss: 0.2447 - accuracy: 0.9593 - val_loss: 0.2446 - val_accuracy: 0.9487\n",
      "Epoch 20/100\n",
      "910/910 [==============================] - 0s 157us/sample - loss: 0.2385 - accuracy: 0.9571 - val_loss: 0.2389 - val_accuracy: 0.9538\n",
      "Epoch 21/100\n",
      "910/910 [==============================] - 0s 164us/sample - loss: 0.2329 - accuracy: 0.9582 - val_loss: 0.2362 - val_accuracy: 0.9538\n",
      "Epoch 22/100\n",
      "910/910 [==============================] - 0s 159us/sample - loss: 0.2253 - accuracy: 0.9582 - val_loss: 0.2254 - val_accuracy: 0.9538\n",
      "Epoch 23/100\n",
      "910/910 [==============================] - 0s 166us/sample - loss: 0.2199 - accuracy: 0.9593 - val_loss: 0.2217 - val_accuracy: 0.9538\n",
      "Epoch 24/100\n",
      "910/910 [==============================] - 0s 166us/sample - loss: 0.2132 - accuracy: 0.9582 - val_loss: 0.2158 - val_accuracy: 0.9538\n",
      "Epoch 25/100\n",
      "910/910 [==============================] - 0s 168us/sample - loss: 0.2081 - accuracy: 0.9747 - val_loss: 0.2101 - val_accuracy: 0.9538\n",
      "Epoch 26/100\n",
      "910/910 [==============================] - 0s 164us/sample - loss: 0.2034 - accuracy: 0.9593 - val_loss: 0.2025 - val_accuracy: 0.9744\n",
      "Epoch 27/100\n",
      "910/910 [==============================] - 0s 158us/sample - loss: 0.1977 - accuracy: 0.9681 - val_loss: 0.2036 - val_accuracy: 0.9590\n",
      "Epoch 28/100\n",
      "910/910 [==============================] - 0s 162us/sample - loss: 0.1931 - accuracy: 0.9736 - val_loss: 0.1944 - val_accuracy: 0.9538\n",
      "Epoch 29/100\n",
      "910/910 [==============================] - 0s 156us/sample - loss: 0.1881 - accuracy: 0.9681 - val_loss: 0.1902 - val_accuracy: 0.9692\n",
      "Epoch 30/100\n",
      "910/910 [==============================] - 0s 168us/sample - loss: 0.1844 - accuracy: 0.9725 - val_loss: 0.1831 - val_accuracy: 0.9744\n",
      "Epoch 31/100\n",
      "910/910 [==============================] - 0s 169us/sample - loss: 0.1775 - accuracy: 0.9802 - val_loss: 0.1851 - val_accuracy: 0.9590\n",
      "Epoch 32/100\n",
      "910/910 [==============================] - 0s 174us/sample - loss: 0.1749 - accuracy: 0.9758 - val_loss: 0.1731 - val_accuracy: 0.9795\n",
      "Epoch 33/100\n",
      "910/910 [==============================] - 0s 181us/sample - loss: 0.1693 - accuracy: 0.9802 - val_loss: 0.1776 - val_accuracy: 0.9590\n",
      "Epoch 34/100\n",
      "910/910 [==============================] - 0s 158us/sample - loss: 0.1629 - accuracy: 0.9780 - val_loss: 0.1638 - val_accuracy: 0.9846\n",
      "Epoch 35/100\n",
      "910/910 [==============================] - 0s 166us/sample - loss: 0.1586 - accuracy: 0.9846 - val_loss: 0.1651 - val_accuracy: 0.9795\n",
      "Epoch 36/100\n",
      "910/910 [==============================] - 0s 176us/sample - loss: 0.1574 - accuracy: 0.9813 - val_loss: 0.1549 - val_accuracy: 0.9846\n",
      "Epoch 37/100\n",
      "910/910 [==============================] - 0s 168us/sample - loss: 0.1518 - accuracy: 0.9835 - val_loss: 0.1492 - val_accuracy: 0.9846\n",
      "Epoch 38/100\n",
      "910/910 [==============================] - 0s 162us/sample - loss: 0.1460 - accuracy: 0.9824 - val_loss: 0.1439 - val_accuracy: 0.9897\n",
      "Epoch 39/100\n",
      "910/910 [==============================] - 0s 166us/sample - loss: 0.1394 - accuracy: 0.9835 - val_loss: 0.1414 - val_accuracy: 0.9846\n",
      "Epoch 40/100\n",
      "910/910 [==============================] - 0s 182us/sample - loss: 0.1366 - accuracy: 0.9846 - val_loss: 0.1350 - val_accuracy: 0.9897\n",
      "Epoch 41/100\n",
      "910/910 [==============================] - 0s 171us/sample - loss: 0.1318 - accuracy: 0.9846 - val_loss: 0.1924 - val_accuracy: 0.9744\n",
      "Epoch 42/100\n",
      "910/910 [==============================] - 0s 180us/sample - loss: 0.1302 - accuracy: 0.9879 - val_loss: 0.1269 - val_accuracy: 0.9897\n",
      "Epoch 43/100\n",
      "910/910 [==============================] - 0s 163us/sample - loss: 0.1246 - accuracy: 0.9879 - val_loss: 0.1232 - val_accuracy: 0.9897\n",
      "Epoch 44/100\n",
      "910/910 [==============================] - 0s 171us/sample - loss: 0.1200 - accuracy: 0.9901 - val_loss: 0.1213 - val_accuracy: 0.9897\n",
      "Epoch 45/100\n",
      "910/910 [==============================] - 0s 169us/sample - loss: 0.1164 - accuracy: 0.9912 - val_loss: 0.1166 - val_accuracy: 0.9897\n",
      "Epoch 46/100\n",
      "910/910 [==============================] - 0s 177us/sample - loss: 0.1141 - accuracy: 0.9912 - val_loss: 0.1142 - val_accuracy: 0.9897\n",
      "Epoch 47/100\n",
      "910/910 [==============================] - 0s 165us/sample - loss: 0.1107 - accuracy: 0.9912 - val_loss: 0.1120 - val_accuracy: 0.9897\n",
      "Epoch 48/100\n",
      "910/910 [==============================] - 0s 184us/sample - loss: 0.1082 - accuracy: 0.9912 - val_loss: 0.1086 - val_accuracy: 0.9949\n",
      "Epoch 49/100\n",
      "910/910 [==============================] - 0s 181us/sample - loss: 0.1061 - accuracy: 0.9923 - val_loss: 0.1072 - val_accuracy: 0.9897\n",
      "Epoch 50/100\n",
      "910/910 [==============================] - 0s 178us/sample - loss: 0.1040 - accuracy: 0.9912 - val_loss: 0.1044 - val_accuracy: 0.9949\n",
      "Epoch 51/100\n",
      "910/910 [==============================] - 0s 179us/sample - loss: 0.1019 - accuracy: 0.9923 - val_loss: 0.1034 - val_accuracy: 0.9949\n",
      "Epoch 52/100\n",
      "910/910 [==============================] - 0s 179us/sample - loss: 0.1001 - accuracy: 0.9934 - val_loss: 0.1008 - val_accuracy: 0.9949\n",
      "Epoch 53/100\n",
      "910/910 [==============================] - 0s 174us/sample - loss: 0.0992 - accuracy: 0.9923 - val_loss: 0.0998 - val_accuracy: 0.9949\n",
      "Epoch 54/100\n",
      "910/910 [==============================] - 0s 165us/sample - loss: 0.0968 - accuracy: 0.9934 - val_loss: 0.0976 - val_accuracy: 0.9949\n",
      "Epoch 55/100\n",
      "910/910 [==============================] - 0s 174us/sample - loss: 0.0956 - accuracy: 0.9945 - val_loss: 0.0972 - val_accuracy: 0.9949\n",
      "Epoch 56/100\n"
     ]
    },
    {
     "name": "stdout",
     "output_type": "stream",
     "text": [
      "910/910 [==============================] - 0s 182us/sample - loss: 0.0945 - accuracy: 0.9934 - val_loss: 0.0955 - val_accuracy: 0.9949\n",
      "Epoch 57/100\n",
      "910/910 [==============================] - 0s 158us/sample - loss: 0.0929 - accuracy: 0.9945 - val_loss: 0.0935 - val_accuracy: 0.9949\n",
      "Epoch 58/100\n",
      "910/910 [==============================] - 0s 169us/sample - loss: 0.0916 - accuracy: 0.9967 - val_loss: 0.0923 - val_accuracy: 1.0000\n",
      "Epoch 59/100\n",
      "910/910 [==============================] - 0s 166us/sample - loss: 0.0904 - accuracy: 0.9956 - val_loss: 0.0912 - val_accuracy: 1.0000\n",
      "Epoch 60/100\n",
      "910/910 [==============================] - 0s 164us/sample - loss: 0.0895 - accuracy: 0.9956 - val_loss: 0.0903 - val_accuracy: 1.0000\n",
      "Epoch 61/100\n",
      "910/910 [==============================] - 0s 169us/sample - loss: 0.0885 - accuracy: 0.9967 - val_loss: 0.0889 - val_accuracy: 1.0000\n",
      "Epoch 62/100\n",
      "910/910 [==============================] - 0s 168us/sample - loss: 0.0877 - accuracy: 0.9967 - val_loss: 0.0878 - val_accuracy: 1.0000\n",
      "Epoch 63/100\n",
      "910/910 [==============================] - 0s 158us/sample - loss: 0.0868 - accuracy: 0.9967 - val_loss: 0.0869 - val_accuracy: 1.0000\n",
      "Epoch 64/100\n",
      "910/910 [==============================] - 0s 162us/sample - loss: 0.0856 - accuracy: 0.9978 - val_loss: 0.0862 - val_accuracy: 1.0000\n",
      "Epoch 65/100\n",
      "910/910 [==============================] - 0s 152us/sample - loss: 0.0848 - accuracy: 0.9978 - val_loss: 0.0857 - val_accuracy: 1.0000\n",
      "Epoch 66/100\n",
      "910/910 [==============================] - 0s 165us/sample - loss: 0.0839 - accuracy: 0.9978 - val_loss: 0.0845 - val_accuracy: 1.0000\n",
      "Epoch 67/100\n",
      "910/910 [==============================] - 0s 165us/sample - loss: 0.0832 - accuracy: 0.9989 - val_loss: 0.0837 - val_accuracy: 1.0000\n",
      "Epoch 68/100\n",
      "910/910 [==============================] - 0s 162us/sample - loss: 0.0824 - accuracy: 0.9989 - val_loss: 0.0828 - val_accuracy: 1.0000\n",
      "Epoch 69/100\n",
      "910/910 [==============================] - ETA: 0s - loss: 0.0813 - accuracy: 0.99 - 0s 167us/sample - loss: 0.0817 - accuracy: 0.9989 - val_loss: 0.0821 - val_accuracy: 1.0000\n",
      "Epoch 70/100\n",
      "910/910 [==============================] - 0s 162us/sample - loss: 0.0810 - accuracy: 0.9989 - val_loss: 0.0815 - val_accuracy: 1.0000\n",
      "Epoch 71/100\n",
      "910/910 [==============================] - 0s 166us/sample - loss: 0.0805 - accuracy: 0.9989 - val_loss: 0.0807 - val_accuracy: 1.0000\n",
      "Epoch 72/100\n",
      "910/910 [==============================] - 0s 152us/sample - loss: 0.0797 - accuracy: 0.9989 - val_loss: 0.0797 - val_accuracy: 1.0000\n",
      "Epoch 73/100\n",
      "910/910 [==============================] - 0s 162us/sample - loss: 0.0790 - accuracy: 0.9989 - val_loss: 0.0792 - val_accuracy: 1.0000\n",
      "Epoch 74/100\n",
      "910/910 [==============================] - 0s 156us/sample - loss: 0.0784 - accuracy: 0.9989 - val_loss: 0.0785 - val_accuracy: 1.0000\n",
      "Epoch 75/100\n",
      "910/910 [==============================] - 0s 157us/sample - loss: 0.0777 - accuracy: 0.9989 - val_loss: 0.0779 - val_accuracy: 1.0000\n",
      "Epoch 76/100\n",
      "910/910 [==============================] - 0s 163us/sample - loss: 0.0771 - accuracy: 0.9989 - val_loss: 0.0771 - val_accuracy: 1.0000\n",
      "Epoch 77/100\n",
      "910/910 [==============================] - 0s 167us/sample - loss: 0.0765 - accuracy: 0.9989 - val_loss: 0.0768 - val_accuracy: 1.0000\n",
      "Epoch 78/100\n",
      "910/910 [==============================] - 0s 159us/sample - loss: 0.0759 - accuracy: 0.9989 - val_loss: 0.0758 - val_accuracy: 1.0000\n",
      "Epoch 79/100\n",
      "910/910 [==============================] - ETA: 0s - loss: 0.0756 - accuracy: 0.99 - 0s 154us/sample - loss: 0.0755 - accuracy: 0.9989 - val_loss: 0.0748 - val_accuracy: 1.0000\n",
      "Epoch 80/100\n",
      "910/910 [==============================] - 0s 162us/sample - loss: 0.0747 - accuracy: 0.9989 - val_loss: 0.0745 - val_accuracy: 1.0000\n",
      "Epoch 81/100\n",
      "910/910 [==============================] - 0s 153us/sample - loss: 0.0741 - accuracy: 0.9989 - val_loss: 0.0736 - val_accuracy: 1.0000\n",
      "Epoch 82/100\n",
      "910/910 [==============================] - 0s 166us/sample - loss: 0.0738 - accuracy: 0.9989 - val_loss: 0.0730 - val_accuracy: 1.0000\n",
      "Epoch 83/100\n",
      "910/910 [==============================] - 0s 167us/sample - loss: 0.0729 - accuracy: 0.9989 - val_loss: 0.0726 - val_accuracy: 1.0000\n",
      "Epoch 84/100\n",
      "910/910 [==============================] - 0s 153us/sample - loss: 0.0725 - accuracy: 0.9989 - val_loss: 0.0714 - val_accuracy: 1.0000\n",
      "Epoch 85/100\n",
      "910/910 [==============================] - 0s 158us/sample - loss: 0.0717 - accuracy: 0.9989 - val_loss: 0.0710 - val_accuracy: 1.0000\n",
      "Epoch 86/100\n",
      "910/910 [==============================] - 0s 163us/sample - loss: 0.0711 - accuracy: 0.9989 - val_loss: 0.0704 - val_accuracy: 1.0000\n",
      "Epoch 87/100\n",
      "910/910 [==============================] - 0s 157us/sample - loss: 0.0705 - accuracy: 0.9989 - val_loss: 0.0701 - val_accuracy: 1.0000\n",
      "Epoch 88/100\n",
      "910/910 [==============================] - 0s 159us/sample - loss: 0.0700 - accuracy: 0.9989 - val_loss: 0.0689 - val_accuracy: 1.0000\n",
      "Epoch 89/100\n",
      "910/910 [==============================] - 0s 164us/sample - loss: 0.0695 - accuracy: 0.9989 - val_loss: 0.0681 - val_accuracy: 1.0000\n",
      "Epoch 90/100\n",
      "910/910 [==============================] - 0s 169us/sample - loss: 0.0689 - accuracy: 0.9989 - val_loss: 0.0674 - val_accuracy: 1.0000\n",
      "Epoch 91/100\n",
      "910/910 [==============================] - 0s 162us/sample - loss: 0.0682 - accuracy: 0.9989 - val_loss: 0.0673 - val_accuracy: 1.0000\n",
      "Epoch 92/100\n",
      "910/910 [==============================] - 0s 160us/sample - loss: 0.0675 - accuracy: 0.9989 - val_loss: 0.0663 - val_accuracy: 1.0000\n",
      "Epoch 93/100\n",
      "910/910 [==============================] - 0s 160us/sample - loss: 0.0671 - accuracy: 0.9989 - val_loss: 0.0661 - val_accuracy: 1.0000\n",
      "Epoch 94/100\n",
      "910/910 [==============================] - 0s 162us/sample - loss: 0.0665 - accuracy: 0.9989 - val_loss: 0.0655 - val_accuracy: 1.0000\n",
      "Epoch 95/100\n",
      "910/910 [==============================] - 0s 164us/sample - loss: 0.0660 - accuracy: 0.9989 - val_loss: 0.0643 - val_accuracy: 1.0000\n",
      "Epoch 96/100\n",
      "910/910 [==============================] - 0s 171us/sample - loss: 0.0654 - accuracy: 0.9989 - val_loss: 0.0636 - val_accuracy: 1.0000\n",
      "Epoch 97/100\n",
      "910/910 [==============================] - 0s 174us/sample - loss: 0.0648 - accuracy: 0.9989 - val_loss: 0.0630 - val_accuracy: 1.0000\n",
      "Epoch 98/100\n",
      "910/910 [==============================] - 0s 162us/sample - loss: 0.0643 - accuracy: 0.9989 - val_loss: 0.0623 - val_accuracy: 1.0000\n",
      "Epoch 99/100\n",
      "910/910 [==============================] - 0s 165us/sample - loss: 0.0637 - accuracy: 0.9989 - val_loss: 0.0617 - val_accuracy: 1.0000\n",
      "Epoch 100/100\n",
      "910/910 [==============================] - 0s 181us/sample - loss: 0.0630 - accuracy: 0.9989 - val_loss: 0.0613 - val_accuracy: 1.0000\n"
     ]
    }
   ],
   "source": [
    "activation = 'relu'\n",
    "optimizer = keras.optimizers.Adam(0.0005)\n",
    "l = 0.007\n",
    "he = keras.initializers.he_normal(seed=None)\n",
    "\n",
    "model = models.Sequential()\n",
    "model.add(layers.Dense(16, activation=activation, kernel_initializer=he, bias_initializer=he, kernel_regularizer=keras.regularizers.l2(l=l), input_shape=(train_X.shape[0],)))\n",
    "model.add(layers.Dense(8, activation=activation, kernel_initializer=he, bias_initializer=he, kernel_regularizer=keras.regularizers.l2(l=l)))\n",
    "model.add(layers.Dense(1, activation='sigmoid'))\n",
    "model.compile(optimizer=optimizer, loss='binary_crossentropy', metrics=['accuracy'])\n",
    "history = model.fit(train_X.T, train_Y.T,\n",
    "                    epochs=100,\n",
    "                    batch_size=32,\n",
    "                    validation_data=(dev_X.T, dev_Y.T))"
   ]
  },
  {
   "cell_type": "code",
   "execution_count": 4,
   "metadata": {
    "scrolled": true
   },
   "outputs": [
    {
     "data": {
      "image/png": "[encoded data removed]",
      "text/plain": [
       "<Figure size 432x288 with 1 Axes>"
      ]
     },
     "metadata": {
      "needs_background": "light"
     },
     "output_type": "display_data"
    },
    {
     "data": {
      "image/png": "[encoded data removed]",
      "text/plain": [
       "<Figure size 432x288 with 1 Axes>"
      ]
     },
     "metadata": {
      "needs_background": "light"
     },
     "output_type": "display_data"
    }
   ],
   "source": [
    "history_dict = history.history\n",
    "loss_values = history_dict['loss'] \n",
    "val_loss_values = history_dict['val_loss']\n",
    "accuracy = history_dict['accuracy']\n",
    "epochs = range(1, len(accuracy) + 1)\n",
    "plt.plot(epochs, loss_values, 'b', label='Training loss') \n",
    "plt.plot(epochs, val_loss_values, 'r', label='Validation loss')\n",
    "plt.title('Training and validation loss') \n",
    "plt.xlabel('Epochs')\n",
    "plt.ylabel('Loss')\n",
    "plt.legend()\n",
    "plt.show()\n",
    "\n",
    "acc = history_dict['accuracy'] \n",
    "val_acc = history_dict['val_accuracy']\n",
    "plt.plot(epochs, acc, 'b', label='Training acc') \n",
    "plt.plot(epochs, val_acc, 'r', label='Validation acc') \n",
    "plt.title('Training and validation accuracy') \n",
    "plt.xlabel('Epochs')\n",
    "plt.ylabel('Accuracy') \n",
    "plt.legend()\n",
    "plt.show()"
   ]
  },
  {
   "cell_type": "code",
   "execution_count": 5,
   "metadata": {
    "scrolled": true
   },
   "outputs": [
    {
     "name": "stdout",
     "output_type": "stream",
     "text": [
      "195/195 [==============================] - 0s 118us/sample - loss: 0.0767 - accuracy: 0.9949\n",
      "Accuracy: 99.49%\n"
     ]
    }
   ],
   "source": [
    "#Evaluation of the model\n",
    "scores = model.evaluate(test_X.T, test_Y.T)\n",
    "print(\"Accuracy: %.2f%%\" % (scores[1]*100))"
   ]
  },
  {
   "cell_type": "code",
   "execution_count": 6,
   "metadata": {},
   "outputs": [
    {
     "name": "stdout",
     "output_type": "stream",
     "text": [
      "Saved model to disk\n"
     ]
    }
   ],
   "source": [
    "# load model\n",
    "#model = load_model('model.h5')\n",
    "# summarize model.\n",
    "#model.summary()\n",
    "\n",
    "model.save(\"model_TinyML.h5\")\n",
    "print(\"Saved model to disk\")"
   ]
  },
  {
   "cell_type": "code",
   "execution_count": 7,
   "metadata": {},
   "outputs": [
    {
     "name": "stdout",
     "output_type": "stream",
     "text": [
      "Quantized model is 2592 bytes\n"
     ]
    }
   ],
   "source": [
    "# Convert the model to the TensorFlow Lite format without quantization\n",
    "converter = tf.lite.TFLiteConverter.from_keras_model(model)\n",
    "\n",
    "# Convert the model to the TensorFlow Lite format with quantization\n",
    "def representative_dataset():\n",
    "  for i in range(100):\n",
    "    yield([train_X[:,i].reshape(1,3)])\n",
    "# Set the optimization flag.\n",
    "converter.optimizations = [tf.lite.Optimize.DEFAULT]\n",
    "# Enforce full-int8 quantization (except inputs/outputs which are always float)\n",
    "converter.target_spec.supported_ops = [tf.lite.OpsSet.TFLITE_BUILTINS_INT8]\n",
    "# Provide a representative dataset to ensure we quantize correctly.\n",
    "converter.representative_dataset = representative_dataset\n",
    "model_tflite = converter.convert()\n",
    "\n",
    "# Save the model to disk\n",
    "open(MODEL_TFLITE, \"wb\").write(model_tflite)\n",
    "\n",
    "import os\n",
    "model_size = os.path.getsize(MODEL_TFLITE)\n",
    "print(\"Quantized model is %d bytes\" % model_size)"
   ]
  },
  {
   "cell_type": "code",
   "execution_count": 8,
   "metadata": {},
   "outputs": [
    {
     "data": {
      "image/png": "[encoded data removed]",
      "text/plain": [
       "<Figure size 432x288 with 1 Axes>"
      ]
     },
     "metadata": {
      "needs_background": "light"
     },
     "output_type": "display_data"
    }
   ],
   "source": [
    "# Instantiate an interpreter for the model\n",
    "model = tf.lite.Interpreter(MODEL_TFLITE)\n",
    "\n",
    "# Allocate memory for the model\n",
    "model.allocate_tensors()\n",
    "\n",
    "# Get the input and output tensors so we can feed in values and get the results\n",
    "model_input = model.tensor(model.get_input_details()[0][\"index\"])\n",
    "model_output = model.tensor(model.get_output_details()[0][\"index\"])\n",
    "\n",
    "# Create arrays to store the results\n",
    "model_predictions = np.empty(test_X.shape[1])\n",
    "\n",
    "# Run each model's interpreter for each value and store the results in arrays\n",
    "for i in range(test_X[1].size):\n",
    "  model.set_tensor(model.get_input_details()[0][\"index\"], train_X[:,i].reshape(1,3))\n",
    "  model.invoke()\n",
    "  model_predictions[i] = model_output()[0]\n",
    "\n",
    "# See how they line up with the data\n",
    "plt.clf()\n",
    "plt.title('Comparison of various models against actual values')\n",
    "plt.plot(test_Y[0], 'bo', label='Actual values')\n",
    "plt.plot(model_predictions, 'gx', label='Lite quantized predictions')\n",
    "plt.legend()\n",
    "plt.show()"
   ]
  },
  {
   "cell_type": "code",
   "execution_count": null,
   "metadata": {},
   "outputs": [],
   "source": []
  }
 ],
 "metadata": {
  "kernelspec": {
   "display_name": "Python 3",
   "language": "python",
   "name": "python3"
  },
  "language_info": {
   "codemirror_mode": {
    "name": "ipython",
    "version": 3
   },
   "file_extension": ".py",
   "mimetype": "text/x-python",
   "name": "python",
   "nbconvert_exporter": "python",
   "pygments_lexer": "ipython3",
   "version": "3.7.9"
  }
 },
 "nbformat": 4,
 "nbformat_minor": 4
}
